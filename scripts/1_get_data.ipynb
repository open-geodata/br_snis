{
 "cells": [
  {
   "cell_type": "code",
   "execution_count": null,
   "metadata": {},
   "outputs": [],
   "source": []
  },
  {
   "cell_type": "markdown",
   "metadata": {},
   "source": [
    "# Imports e Funções"
   ]
  },
  {
   "cell_type": "code",
   "execution_count": null,
   "metadata": {},
   "outputs": [],
   "source": [
    "%run '../codes/files/downloads.py'\n",
    "%run '../codes/files/predict_encoding.py'\n",
    "%run '../codes/files/create_folders.py'\n",
    "\n",
    "import os\n",
    "import pandas as pd\n",
    "\n",
    "create_folders('')"
   ]
  },
  {
   "cell_type": "code",
   "execution_count": null,
   "metadata": {},
   "outputs": [],
   "source": [
    "def write_results(df, filename):\n",
    "    # Escreve em arquivo CSV    \n",
    "    df.to_csv(filename,\n",
    "              encoding='utf-8-sig',\n",
    "              index=False,\n",
    "              header=True,\n",
    "              sep=';',\n",
    "              decimal=',')\n",
    "    \n",
    "    return print('Tabela Salva!')"
   ]
  },
  {
   "cell_type": "code",
   "execution_count": null,
   "metadata": {},
   "outputs": [],
   "source": [
    "def findfiles_ByExtensionContain(path, extension='.csv', contain='Indicadores'):\n",
    "    \"\"\"\n",
    "    Function to find files with a especific extension in a path\n",
    "    :param prefix:\n",
    "    :param path:\n",
    "    :param extension:\n",
    "    :return:\n",
    "    \"\"\"\n",
    "    \n",
    "    from os import listdir\n",
    "    filenames = listdir(path)\n",
    "    lst = []\n",
    "    \n",
    "    for filename in filenames:\n",
    "        if filename.endswith(extension) and contain in filename:\n",
    "            lst.append(filename)\n",
    "        \n",
    "    return lst"
   ]
  },
  {
   "cell_type": "markdown",
   "metadata": {},
   "source": [
    "# *Download* dos dados"
   ]
  },
  {
   "cell_type": "code",
   "execution_count": null,
   "metadata": {},
   "outputs": [],
   "source": [
    "url = ['http://www.snis.gov.br/downloads/diagnosticos/ae/2018/Planilhas_AE2018.zip']\n",
    "\n",
    "download_urls(url, 'data')"
   ]
  },
  {
   "cell_type": "markdown",
   "metadata": {},
   "source": [
    "# *Unzip* arquivos"
   ]
  },
  {
   "cell_type": "code",
   "execution_count": null,
   "metadata": {},
   "outputs": [],
   "source": [
    "%run '../codes/files/zip_file.py'\n",
    "\n",
    "unzip_zipfiles('data')\n",
    "unzip_zipfiles('data')"
   ]
  },
  {
   "cell_type": "markdown",
   "metadata": {},
   "source": [
    "# Lê e Ajusta a Tabela de Indicadores"
   ]
  },
  {
   "cell_type": "code",
   "execution_count": null,
   "metadata": {},
   "outputs": [],
   "source": [
    "list_type = findfiles_ByExtensionContain('data', extension='.xls', contain='Indicadores')\n",
    "\n",
    "dfs = []\n",
    "\n",
    "for i in list_type:\n",
    "    file = os.path.join('data', i)\n",
    "    \n",
    "    df = pd.read_excel(file,\n",
    "                       header=[0,1,2,3],\n",
    "                       skiprows=range(0, 6))\n",
    "    \n",
    "    # Ajusta o Primeiro Nível do Cabeçalho\n",
    "    a = df.columns.get_level_values(0)\n",
    "    a = a.to_series()\n",
    "    a = a.mask(lambda x: x.str.startswith('Unnamed')).ffill()\n",
    "    a = a.replace('Tipo de serviço','PRESTADOR DE SERVIÇOS')\n",
    "    a = a.str.title()\n",
    "    a = a.replace({'  '     :' ',\n",
    "                   ' E '    :' e ',\n",
    "                   ' De '   :' de ',\n",
    "                   ' Sobre ':' sobre '}, regex=True)\n",
    "    a = a.to_list()\n",
    "\n",
    "    # Ajusta o Segundo Nível do Cabeçalho\n",
    "    b = df.columns.get_level_values(1)\n",
    "    b = b.to_series()\n",
    "    b = b.mask(lambda x: x.str.startswith('Unnamed'))\n",
    "    b = b.fillna('Tipo de serviço')\n",
    "    b = b.to_list()\n",
    "\n",
    "    # Ajusta o Terceiro Nível do Cabeçalho\n",
    "    c = df.columns.get_level_values(2)\n",
    "    c = c.to_series()\n",
    "    c = c.replace('-','')\n",
    "    c = '('+c+')'\n",
    "    c = c.replace('()','')\n",
    "    c = c.to_list()\n",
    "\n",
    "    # Ajusta o Quarto Nível do Cabeçalho\n",
    "    d = df.columns.get_level_values(3)\n",
    "    d = d.to_series()\n",
    "    d = d.replace('-','')\n",
    "    d = '('+d+')'\n",
    "    d = d.replace('()','')\n",
    "    d = d.to_list()\n",
    "\n",
    "    # Junta tudo\n",
    "    z = [x[0]+' '+x[1]+' '+x[2] for x in zip(b, c, d)]\n",
    "    z = pd.Series(z)\n",
    "    z = z.str.strip()\n",
    "    z.to_list()\n",
    "\n",
    "    # Define as Colunas\n",
    "    #df.columns = [a, z]\n",
    "    df.columns = z\n",
    "    \n",
    "    dfs.append(df)\n",
    "\n",
    "dfs = pd.concat(dfs)\n",
    "df = dfs"
   ]
  },
  {
   "cell_type": "code",
   "execution_count": null,
   "metadata": {},
   "outputs": [],
   "source": [
    "df = df[df['UF'] == 'SP']"
   ]
  },
  {
   "cell_type": "markdown",
   "metadata": {},
   "source": [
    "## Escreve a Tabela"
   ]
  },
  {
   "cell_type": "code",
   "execution_count": null,
   "metadata": {},
   "outputs": [],
   "source": [
    "file = os.path.join('data', 'tab_Indicadores.csv')\n",
    "write_results(df, file)"
   ]
  },
  {
   "cell_type": "markdown",
   "metadata": {},
   "source": [
    "# Lê e Ajusta a Tabela de Informações"
   ]
  },
  {
   "cell_type": "code",
   "execution_count": null,
   "metadata": {},
   "outputs": [],
   "source": [
    "list_type = findfiles_ByExtensionContain('data', extension='.xls', contain='Informacoes')\n",
    "\n",
    "dfs = []\n",
    "\n",
    "for i in list_type:\n",
    "    file = os.path.join('data', i)\n",
    "    \n",
    "    df = pd.read_excel(file,\n",
    "                       header=[0,1,2,3,4,5],\n",
    "                       skiprows=range(0, 6))\n",
    "    \n",
    "    # Ajusta o Primeiro Nível do Cabeçalho\n",
    "    a = df.columns.get_level_values(0)\n",
    "    a = a.to_series()\n",
    "    a = a.mask(lambda x: x.str.startswith('Unnamed')).ffill()    \n",
    "    a = a.str.title()\n",
    "    a = a.replace({'  '     :' ',\n",
    "                   ' E '    :' e ',\n",
    "                   ' De '   :' de ',\n",
    "                   ' Com '   :' com ',\n",
    "                   ' Sobre ':' sobre '}, regex=True)\n",
    "    a = a.str.strip()\n",
    "    a = a.to_list()\n",
    "    \n",
    "    # Ajusta o Segundo Nível do Cabeçalho\n",
    "    b = df.columns.get_level_values(1)\n",
    "    b = b.to_series()\n",
    "    b = b.mask(lambda x: x.str.startswith('Unnamed')).ffill()\n",
    "    b = b.str.title()\n",
    "    b = b.replace({' À '   :' à ',\n",
    "                   ' Ao '  :' ao ',\n",
    "                   ' Ao '  :' ao ',\n",
    "                   ' Da '  :' da ',\n",
    "                   ' Das ' :' das ',\n",
    "                   ' De '  :' de ',\n",
    "                   ' Do '  :' do ',\n",
    "                   ' Dos ' :' dos ',\n",
    "                   ' Com ' :' com ',\n",
    "                   ' A '   :' a ',\n",
    "                   ' As '   :' as ',\n",
    "                   ' E '   :' e ',\n",
    "                   ' O '   :' o ',\n",
    "                   ' Os '   :' os ',\n",
    "                   ' Na '  :' na ',\n",
    "                   ' No '  :' no ',\n",
    "                   ' Nas ' :' nas ',\n",
    "                   ' Não ' :' não ',\n",
    "                   ' Em '  :' em ',\n",
    "                   ' Pelo ':' pelo ',\n",
    "                   ' Para ':' para ',\n",
    "                   ' Qual ':' qual ',\n",
    "                   ' Por ' :' por ',\n",
    "                   ' Se '  :' se ',\n",
    "                   ' Ou '  :' ou ',\n",
    "                   '–':'-'}, regex=True)\n",
    "    b = b.str.strip()\n",
    "    b = b.replace('Uf','UF')\n",
    "    b = b.fillna('')\n",
    "    b = b.to_list()\n",
    "\n",
    "    # Ajusta o Terceiro Nível do Cabeçalho\n",
    "    c = df.columns.get_level_values(2)\n",
    "    c = c.to_series()\n",
    "    c = c.mask(lambda x: x.str.startswith('Unnamed'))\n",
    "    c = c.fillna('')\n",
    "    c = c.str.title()\n",
    "    c = c.replace({' À '   :' à ',\n",
    "                   ' Ao '  :' ao ',\n",
    "                   ' Ao '  :' ao ',\n",
    "                   ' Da '  :' da ',\n",
    "                   ' Das ' :' das ',\n",
    "                   ' De '  :' de ',\n",
    "                   ' Do '  :' do ',\n",
    "                   ' Dos ' :' dos ',\n",
    "                   ' Com ' :' com ',\n",
    "                   ' A '   :' a ',\n",
    "                   ' E '   :' e ',\n",
    "                   ' O '   :' o ',\n",
    "                   ' Os '   :' os ',\n",
    "                   ' Na '  :' na ',\n",
    "                   ' No '  :' no ',\n",
    "                   ' Nas ' :' nas ',\n",
    "                   ' Não ' :' não ',\n",
    "                   ' Em '  :' em ',\n",
    "                   ' Pelo ':' pelo ',\n",
    "                   ' Para ':' para ',\n",
    "                   ' Qual ':' qual ',\n",
    "                   ' Por ' :' por ',\n",
    "                   ' Se '  :' se ',\n",
    "                   ' Ou '  :' ou '}, regex=True)\n",
    "    c = c.replace('-','')\n",
    "    c = c.replace('()','')\n",
    "    c = c.str.strip()\n",
    "    c = c.to_list()\n",
    "\n",
    "    # Ajusta o Quarto Nível do Cabeçalho\n",
    "    d = df.columns.get_level_values(3)\n",
    "    d = d.to_series()\n",
    "    d = d.mask(lambda x: x.str.startswith('Unnamed'))\n",
    "    d = d.fillna('')\n",
    "    d = d.str.title()\n",
    "    d = d.replace({' À '   :' à ',\n",
    "                   ' Ao '  :' ao ',\n",
    "                   ' Ao '  :' ao ',\n",
    "                   ' Da '  :' da ',\n",
    "                   ' Das ' :' das ',\n",
    "                   ' De '  :' de ',\n",
    "                   ' Do '  :' do ',\n",
    "                   ' Dos ' :' dos ',\n",
    "                   ' Com ' :' com ',\n",
    "                   ' A '   :' a ',\n",
    "                   ' As '   :' as ',\n",
    "                   ' E '   :' e ',\n",
    "                   ' O '   :' o ',\n",
    "                   ' Na '  :' na ',\n",
    "                   ' No '  :' no ',\n",
    "                   ' Nas ' :' nas ',\n",
    "                   ' Não ' :' não ',\n",
    "                   ' Em '  :' em ',\n",
    "                   ' Pelo ':' pelo ',\n",
    "                   ' Para ':' para ',\n",
    "                   ' Qual ':' qual ',\n",
    "                   ' Por ' :' por ',\n",
    "                   ' Se '  :' se ',\n",
    "                   ' Ou '  :' ou '}, regex=True)    \n",
    "    d = d.replace('()','')\n",
    "    d = d.to_list()\n",
    "\n",
    "    # Ajusta o Quinto Nível do Cabeçalho\n",
    "    e = df.columns.get_level_values(4)\n",
    "    e = e.to_series()\n",
    "    e = e.mask(lambda x: x.str.startswith('Unnamed'))\n",
    "    e = e.fillna('')\n",
    "    e = e.replace('-','')\n",
    "    e = '('+e+')'\n",
    "    e = e.replace('()','')\n",
    "    e = e.replace(' / ','/', regex=True)\n",
    "    e = e.to_list()\n",
    "    \n",
    "    # Ajusta o Sexto Nível do Cabeçalho\n",
    "    f = df.columns.get_level_values(5)\n",
    "    f = f.to_series()\n",
    "    f = f.mask(lambda x: x.str.startswith('Unnamed'))\n",
    "    f = f.fillna('')\n",
    "    f = f.replace('-','')\n",
    "    f = '('+f+')'\n",
    "    f = f.replace('()','')\n",
    "    f = f.to_list()\n",
    "    \n",
    "    # Junta tudo\n",
    "    z = [x[0]+' '+x[1]+' '+x[2]+' '+x[3]+' '+x[4] for x in zip(b, c, d, e, f)]\n",
    "    z = pd.Series(z)\n",
    "    z = z.replace({'/  /': '/',\n",
    "                   '  '  :' '}, regex=True)\n",
    "    z = z.str.strip()\n",
    "    z.to_list()\n",
    "    \n",
    "    # Define as Colunas\n",
    "    #df.columns = [a, z]\n",
    "    df.columns = z\n",
    "    \n",
    "    dfs.append(df)\n",
    "\n",
    "dfs = pd.concat(dfs)\n",
    "df = dfs"
   ]
  },
  {
   "cell_type": "code",
   "execution_count": null,
   "metadata": {},
   "outputs": [],
   "source": [
    "df = df[df['UF'] == 'SP']"
   ]
  },
  {
   "cell_type": "markdown",
   "metadata": {},
   "source": [
    "## Escreve a Tabela"
   ]
  },
  {
   "cell_type": "code",
   "execution_count": null,
   "metadata": {},
   "outputs": [],
   "source": [
    "file = os.path.join('data', 'tab_Informações.csv')\n",
    "write_results(df, file)"
   ]
  },
  {
   "cell_type": "markdown",
   "metadata": {},
   "source": [
    "# Git"
   ]
  },
  {
   "cell_type": "code",
   "execution_count": null,
   "metadata": {},
   "outputs": [],
   "source": [
    "%run '~/Documents/Geodata/SourceCode/codes/git/update_github.py'\n",
    "\n",
    "git_full('/home/michel/Documents/Geodata/SourceCode/data_SNIS', '.', 'Atualizando')"
   ]
  }
 ],
 "metadata": {
  "kernelspec": {
   "display_name": "Python [conda env:pablocarreira-py36]",
   "language": "python",
   "name": "conda-env-pablocarreira-py36-py"
  },
  "language_info": {
   "codemirror_mode": {
    "name": "ipython",
    "version": 3
   },
   "file_extension": ".py",
   "mimetype": "text/x-python",
   "name": "python",
   "nbconvert_exporter": "python",
   "pygments_lexer": "ipython3",
   "version": "3.6.10"
  },
  "toc": {
   "base_numbering": 1,
   "nav_menu": {},
   "number_sections": true,
   "sideBar": true,
   "skip_h1_title": false,
   "title_cell": "Table of Contents",
   "title_sidebar": "Contents",
   "toc_cell": false,
   "toc_position": {
    "height": "calc(100% - 180px)",
    "left": "10px",
    "top": "150px",
    "width": "374.4px"
   },
   "toc_section_display": true,
   "toc_window_display": true
  }
 },
 "nbformat": 4,
 "nbformat_minor": 4
}
